{
  "nbformat": 4,
  "nbformat_minor": 0,
  "metadata": {
    "colab": {
      "name": "week10.1",
      "provenance": [],
      "authorship_tag": "ABX9TyM1bCoktgqAyIrWjHvH1JI+",
      "include_colab_link": true
    },
    "kernelspec": {
      "name": "python3",
      "display_name": "Python 3"
    }
  },
  "cells": [
    {
      "cell_type": "markdown",
      "metadata": {
        "id": "view-in-github",
        "colab_type": "text"
      },
      "source": [
        "<a href=\"https://colab.research.google.com/github/adaniel6606/computational-thinking/blob/master/week10_1.ipynb\" target=\"_parent\"><img src=\"https://colab.research.google.com/assets/colab-badge.svg\" alt=\"Open In Colab\"/></a>"
      ]
    },
    {
      "cell_type": "code",
      "metadata": {
        "colab": {
          "base_uri": "https://localhost:8080/"
        },
        "id": "nIuSxgx3Rgex",
        "outputId": "07d69a75-c4f7-4e12-8412-2cc9b7ce63fe"
      },
      "source": [
        "# 寫程式是怎麼一回事\n",
        "## Question[魔球]那部電影值不值得得看? 老闆想了解一下那部電影的相關資訊\n",
        "# Step 1 : 上網找 哪裡找 找什麼 如何回覆\n",
        "## 從IMBD電影資料找出要記錄的魔球電影相關資訊\n",
        "## 網址: https://www.imdb.com/title/tt1210166/\n",
        "## 相關資訊:電影名稱,放映時間\n",
        "\n",
        "# Step 2 : Input-Process-Output\n",
        "\n",
        "## 輸入資料\n",
        "## 處理\n",
        "## 輸入資料\n",
        "\n",
        "# Step 3: Coding\n",
        "\n",
        "movie_title = \"money ball\"\n",
        "release_year = \"2011\"\n",
        "evaluation = \"4.5\"\n",
        "price = \"450\"\n",
        "movie_length = \"90\"\n",
        "\n",
        "print(\"電腦英文名稱\",movie_title)\n",
        "print(\"上映時間\", release_year)\n",
        "print(\"評價\", evaluation)\n",
        "print(\"票價\", price)\n",
        "print(\"電影長度\", movie_length)"
      ],
      "execution_count": 5,
      "outputs": [
        {
          "output_type": "stream",
          "text": [
            "電腦英文名稱 money ball\n",
            "上映時間 2011\n",
            "評價 4.5\n",
            "票價 450\n",
            "電影長度 90\n"
          ],
          "name": "stdout"
        }
      ]
    }
  ]
}