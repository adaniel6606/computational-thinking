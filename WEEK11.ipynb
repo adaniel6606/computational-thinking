{
  "nbformat": 4,
  "nbformat_minor": 0,
  "metadata": {
    "colab": {
      "name": "WEEK11",
      "provenance": [],
      "authorship_tag": "ABX9TyP9UkwpegB5bWgSUIPtzlx5",
      "include_colab_link": true
    },
    "kernelspec": {
      "name": "python3",
      "display_name": "Python 3"
    }
  },
  "cells": [
    {
      "cell_type": "markdown",
      "metadata": {
        "id": "view-in-github",
        "colab_type": "text"
      },
      "source": [
        "<a href=\"https://colab.research.google.com/github/adaniel6606/computational-thinking/blob/master/WEEK11.ipynb\" target=\"_parent\"><img src=\"https://colab.research.google.com/assets/colab-badge.svg\" alt=\"Open In Colab\"/></a>"
      ]
    },
    {
      "cell_type": "code",
      "metadata": {
        "id": "YFZAVVEAawBo"
      },
      "source": [
        "# 商數餘數\n",
        "\n",
        "seat = int(input(\"Enter a seat number?\"))\n",
        "## Process\n",
        " group = (seat - 1) // 5 + 1\n",
        "## Output\n",
        " print( \"Group is\", group)\n"
      ],
      "execution_count": null,
      "outputs": []
    },
    {
      "cell_type": "code",
      "metadata": {
        "id": "g5fuMin5c8O2"
      },
      "source": [
        "# 四捨五入 無條件進位\n",
        "import math\n",
        "\n",
        "## Input\n",
        "seat = int(input(\"Enter a seat number? \"))\n",
        "\n",
        "## Process\n",
        "group = math.ceil(seat/5)\n",
        "\n",
        "## Output\n",
        "print(\"Group is\", group)\n"
      ],
      "execution_count": null,
      "outputs": []
    },
    {
      "cell_type": "code",
      "metadata": {
        "id": "NrJ2K3efefEn"
      },
      "source": [
        "# 方法(三): 看餘數, 用條件句\n",
        "number = int(input(\"Enter a number\"))\n",
        "if number%5 = 0\n",
        "  print(\"Group is\", number//5)\n",
        "else:\n",
        "  print(\"Group is\", number//5 +1)"
      ],
      "execution_count": null,
      "outputs": []
    }
  ]
}