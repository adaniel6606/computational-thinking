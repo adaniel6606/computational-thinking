{
  "nbformat": 4,
  "nbformat_minor": 0,
  "metadata": {
    "colab": {
      "name": "week10.2",
      "provenance": [],
      "authorship_tag": "ABX9TyOHKUPqWvnAwDFIOGr3O4EC",
      "include_colab_link": true
    },
    "kernelspec": {
      "name": "python3",
      "display_name": "Python 3"
    }
  },
  "cells": [
    {
      "cell_type": "markdown",
      "metadata": {
        "id": "view-in-github",
        "colab_type": "text"
      },
      "source": [
        "<a href=\"https://colab.research.google.com/github/adaniel6606/computational-thinking/blob/master/week10_2.ipynb\" target=\"_parent\"><img src=\"https://colab.research.google.com/assets/colab-badge.svg\" alt=\"Open In Colab\"/></a>"
      ]
    },
    {
      "cell_type": "code",
      "metadata": {
        "colab": {
          "base_uri": "https://localhost:8080/"
        },
        "id": "SypVQDJVhZPN",
        "outputId": "7a067550-237c-4402-943e-d8c680a9788b"
      },
      "source": [
        "# Input Data\n",
        "time = 123\n",
        "\n",
        "# Process\n",
        "hour = time // 60 # 商數\n",
        "minute = time % 60 # 餘數\n",
        "\n",
        "# Output\n",
        "\n",
        "print(time, \"是\", hour, \"小時\", minute, \"分鐘\")\n",
        "\n",
        "## process\n",
        "\n",
        "hour1 = int (time / 60) # 除法與整數\n"
      ],
      "execution_count": 1,
      "outputs": [
        {
          "output_type": "stream",
          "text": [
            "123 是 2 小時 3 分鐘\n"
          ],
          "name": "stdout"
        }
      ]
    }
  ]
}